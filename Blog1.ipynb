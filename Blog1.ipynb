{
 "cells": [
  {
   "cell_type": "markdown",
   "metadata": {},
   "source": [
    "This is Marvin Misnky meets 2018, with the help of *Erik Kandel* and *The Virtual Brain*"
   ]
  },
  {
   "cell_type": "code",
   "execution_count": 102,
   "metadata": {},
   "outputs": [],
   "source": [
    "import numpy as np\n",
    "from tvb.datatypes import connectivity\n",
    "import os\n",
    "s1_file = os.path.abspath('s1.zip')"
   ]
  },
  {
   "cell_type": "markdown",
   "metadata": {},
   "source": [
    "# K-Lines:A Theory of Memory in 2018"
   ]
  },
  {
   "cell_type": "code",
   "execution_count": 103,
   "metadata": {},
   "outputs": [
    {
     "data": {
      "text/html": [
       "<iframe width=\"560\" height=\"315\" src=\"https://www.youtube.com/embed/-pb3z2w9gDg?start=2343end=2500\" frameborder=\"0\" allow=\"autoplay; encrypted-media\" allowfullscreen></iframe>>"
      ],
      "text/plain": [
       "<IPython.core.display.HTML object>"
      ]
     },
     "execution_count": 103,
     "metadata": {},
     "output_type": "execute_result"
    }
   ],
   "source": [
    "from IPython.display import HTML\n",
    "HTML('<iframe width=\"560\" height=\"315\" src=\"https://www.youtube.com/embed/-pb3z2w9gDg?start=2343end=2500\" frameborder=\"0\" allow=\"autoplay; encrypted-media\" allowfullscreen></iframe>>')\n",
    "\n",
    "## 39:03 -> 42:05"
   ]
  },
  {
   "cell_type": "markdown",
   "metadata": {},
   "source": [
    "Misnky's point on k-line and theories in Psyhoclogy in general lasts only a few minutes, but you're free to watch the video as long as you like :) . \n",
    "\n",
    "Marvin Minsky is known as the father of Aritifcal intelligence. He is in short, a certified genius. In my reading of the society of mind,  Marvin Minsky is applying his theory about knowledge (Epistemology) to the mind. Misnky has also been a influenteical thinker in many other domains so the method has merit. Erik Kandel is a noble prize winning memory researcher who was a frontieer in a great deal of sc"
   ]
  },
  {
   "cell_type": "markdown",
   "metadata": {},
   "source": [
    "\n",
    "## Components and Connections\n",
    "\n",
    "* The K-line theory of memory operates at a *mental* level. The units, *agents* , are mental phonemna. For example, building a tower. \n",
    "* A neuroscientific theory of memory is physical. The units, * neurons * , are material things. for example, neurons.\n",
    "* *Reducing* about Minsky's K-line theory to scientific terms, is the sin of reduction. That's also what i'm going to do. \n",
    "\n",
    "let's break it down, meet an agent in a demo mind."
   ]
  },
  {
   "cell_type": "code",
   "execution_count": 32,
   "metadata": {},
   "outputs": [],
   "source": [
    "class mind():\n",
    "    pass\n",
    "\n",
    "minsky_mind = mind"
   ]
  },
  {
   "cell_type": "markdown",
   "metadata": {},
   "source": [
    "The mind is made out of agents."
   ]
  },
  {
   "cell_type": "code",
   "execution_count": 33,
   "metadata": {},
   "outputs": [],
   "source": [
    "class mind():\n",
    "    \n",
    "    class agent():\n",
    "        pass"
   ]
  },
  {
   "cell_type": "markdown",
   "metadata": {},
   "source": [
    "Each agent has a structural and a functional role. This is a dichotomy that has been evident since Aristotle. Recently, Daniel Dennet expanded on this thoery but adding an \"Intentonal\" stance. An exception to the functional/structural approach used in every other domain for every thing besides human mind? That won't cut it. "
   ]
  },
  {
   "cell_type": "code",
   "execution_count": 35,
   "metadata": {},
   "outputs": [],
   "source": [
    "class mind():\n",
    "    \n",
    "    class agent():\n",
    "        \n",
    "        class functional():\n",
    "            pass\n",
    "            \n",
    "        class structural():\n",
    "            pass"
   ]
  },
  {
   "cell_type": "markdown",
   "metadata": {},
   "source": [
    "finally, let's meet an actual agent."
   ]
  },
  {
   "cell_type": "code",
   "execution_count": 97,
   "metadata": {},
   "outputs": [],
   "source": [
    "Add = mind.agent()\n",
    "\n",
    "Add.functional = np.add\n",
    "Add.structural = tvb.datatypes.structural"
   ]
  },
  {
   "cell_type": "markdown",
   "metadata": {},
   "source": [
    "Python's cool, right?"
   ]
  },
  {
   "cell_type": "code",
   "execution_count": 98,
   "metadata": {},
   "outputs": [
    {
     "data": {
      "text/plain": [
       "5"
      ]
     },
     "execution_count": 98,
     "metadata": {},
     "output_type": "execute_result"
    }
   ],
   "source": [
    "Add.functional(2,3)"
   ]
  },
  {
   "cell_type": "markdown",
   "metadata": {},
   "source": [
    "From a structural perspective, we can speak about the \"volume\" , or the mathemathical 3D position of \"Add\" in the brain. There are neural circuits in the brain that literaly \"Add\" signals."
   ]
  },
  {
   "cell_type": "code",
   "execution_count": 99,
   "metadata": {},
   "outputs": [],
   "source": [
    "Add.structural.VolumetricDataMixin = [0,0,0]\n",
    "Add.structural.StructuralMRI.weighting = 1"
   ]
  },
  {
   "cell_type": "markdown",
   "metadata": {},
   "source": [
    "That's an agent. It takes up some space in the brain (structural) and does something (functional). The uneasy feeling about the structural location of Add is justified. Add is too abstract. \"Each mental agent by itself can only do some ismple thing that needs no mind or thought at all\" (Marvin Misnky).  "
   ]
  },
  {
   "cell_type": "code",
   "execution_count": 101,
   "metadata": {},
   "outputs": [],
   "source": [
    "def functional_agent_maker(label):\n",
    "     agent = mind.agent.functional = 'label'\n",
    "     return agent \n",
    "\n",
    "Add.agency = [functional_agent_maker('find'), functional_agent_maker('Get'), functional_agent_maker('Put')]"
   ]
  },
  {
   "cell_type": "markdown",
   "metadata": {},
   "source": [
    "[logo]: http://aurellem.org/society-of-mind/illus/ch2/2-1.png \"Logo Title Text 2\"\n"
   ]
  },
  {
   "cell_type": "markdown",
   "metadata": {},
   "source": [
    "![alt text](http://aurellem.org/society-of-mind/illus/ch2/2-1.png  \"Logo Title Text 1\") \n",
    "\n"
   ]
  },
  {
   "cell_type": "markdown",
   "metadata": {},
   "source": [
    "This picture holds the key to a lot of recent advances in neuroscience. The connectionist view. The connections between agents, between Add to find, get and from Add to Builder, those are key. Today Neuroscientists know the significance of synpases. Powerful neural networks, the same ones that built the best human chess player,  our driving our cars, and semmingly taking over the world are built based on this insight. A lot of research today is centred around studying connections.\n",
    "\n",
    "Erik Kandel categorizes the study of memory as the outcome of several interactive processes. \n",
    "    1. Encoding new information\n",
    "    2. Short term memory \n",
    "    3. Intermidiate-term memory\n",
    "    4- Forming long term memory\n",
    "    5- Maintaining long term memory\n",
    "    6- Destabliziation and reestabliziation of memory ( updating, retrieving, integerating with other memories)\n",
    "    \n",
    "Kandel writes about these processes: \"These dynamics are initiated by molecular and cellular modifications at the level of individual synaptic connections and extend to more distributed changes throughout multiple synaptic connections of many neurons embedded in larger neuronal networks whose interactions are expressed at the behavioral level\".\n",
    "\n",
    "Basically, neurons are connected. The connections exist at the level of a single neuron, A group of neurons or a brain structure, say Hippocampus."
   ]
  },
  {
   "cell_type": "code",
   "execution_count": null,
   "metadata": {},
   "outputs": [],
   "source": []
  }
 ],
 "metadata": {
  "kernelspec": {
   "display_name": "Python 2",
   "language": "python",
   "name": "python2"
  },
  "language_info": {
   "codemirror_mode": {
    "name": "ipython",
    "version": 2
   },
   "file_extension": ".py",
   "mimetype": "text/x-python",
   "name": "python",
   "nbconvert_exporter": "python",
   "pygments_lexer": "ipython2",
   "version": "2.7.15"
  }
 },
 "nbformat": 4,
 "nbformat_minor": 2
}
